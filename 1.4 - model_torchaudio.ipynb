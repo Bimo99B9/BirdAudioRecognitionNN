{
 "cells": [
  {
   "cell_type": "code",
   "execution_count": 10,
   "metadata": {},
   "outputs": [],
   "source": [
    "import os\n",
    "import pandas as pd\n",
    "import torchaudio\n",
    "from torch.utils.data import Dataset, DataLoader\n",
    "import torch.nn.functional as F\n",
    "import torch\n",
    "\n",
    "torch.manual_seed(42)\n",
    "\n",
    "class BirdDataset(Dataset):\n",
    "    def __init__(self, root_dir, csv_file, class_info_file='class_info.csv', transform=None):\n",
    "        self.labels_frame = pd.read_csv(os.path.join(root_dir, csv_file))\n",
    "        self.root_dir = os.path.join(root_dir, \"train\" if \"train\" in csv_file else \"test\")\n",
    "        self.transform = transform or T.MelSpectrogram()\n",
    "        self.classes = pd.read_csv(os.path.join(root_dir, class_info_file))['class name'].tolist()\n",
    "        self.num_classes = len(self.classes)\n",
    "\n",
    "    def __getitem__(self, idx):\n",
    "        # Load, resample and apply transformations here\n",
    "        audio_name = os.path.join(self.root_dir, self.labels_frame.iloc[idx, 0])\n",
    "        waveform, rate = torchaudio.load(audio_name, normalize=True)\n",
    "        waveform = self.transform(waveform)\n",
    "\n",
    "        # Handle multilabel cases for training data\n",
    "        if 'class' in self.labels_frame.columns:\n",
    "            labels = self.labels_frame.iloc[idx].get('class').split(',')\n",
    "            target = np.zeros(self.num_classes, dtype=np.float32)\n",
    "            for label in labels:\n",
    "                target[self.classes.index(label)] = 1.0\n",
    "            return waveform, torch.tensor(target)\n",
    "        return waveform\n",
    "    \n",
    "    def __len__(self):\n",
    "        return len(self.labels_frame)\n",
    "\n",
    "train_dataset = BirdDataset(\"data\", \"train.csv\")\n",
    "train_loader = DataLoader(train_dataset, batch_size=32, shuffle=True)\n"
   ]
  },
  {
   "cell_type": "code",
   "execution_count": 11,
   "metadata": {},
   "outputs": [],
   "source": [
    "import torch.nn as nn\n",
    "\n",
    "class SimpleCNN(nn.Module):\n",
    "    def __init__(self, num_classes):\n",
    "        super(SimpleCNN, self).__init__()\n",
    "        self.conv1 = nn.Conv1d(1, 16, kernel_size=5)\n",
    "        self.pool = nn.MaxPool1d(kernel_size=4)\n",
    "        self.conv2 = nn.Conv1d(16, 32, kernel_size=5)\n",
    "        self.fc1_size = 32 * 9998\n",
    "        self.fc1 = nn.Linear(self.fc1_size, 64)\n",
    "        self.fc2 = nn.Linear(64, num_classes)\n",
    "        self.sigmoid = nn.Sigmoid()\n",
    "\n",
    "    def forward(self, x):\n",
    "        x = self.pool(F.relu(self.conv1(x)))\n",
    "        x = self.pool(F.relu(self.conv2(x)))\n",
    "        x = x.view(-1, self.fc1_size)\n",
    "        x = F.relu(self.fc1(x))\n",
    "        x = self.fc2(x)\n",
    "        return self.sigmoid(x)\n",
    "\n",
    "model = SimpleCNN(len(train_dataset.classes)).cuda()\n"
   ]
  },
  {
   "cell_type": "code",
   "execution_count": 12,
   "metadata": {},
   "outputs": [
    {
     "name": "stdout",
     "output_type": "stream",
     "text": [
      "Epoch 1/10 Loss: 0.05744423344731331\n",
      "Epoch 2/10 Loss: 0.062306180596351624\n",
      "Epoch 3/10 Loss: 0.060677461326122284\n",
      "Epoch 4/10 Loss: 0.06008269637823105\n",
      "Epoch 5/10 Loss: 0.056424882262945175\n",
      "Epoch 6/10 Loss: 0.05195903033018112\n",
      "Epoch 7/10 Loss: 0.059545136988162994\n",
      "Epoch 8/10 Loss: 0.05917944014072418\n",
      "Epoch 9/10 Loss: 0.059189558029174805\n",
      "Epoch 10/10 Loss: 0.05804351717233658\n"
     ]
    }
   ],
   "source": [
    "import torch.optim as optim\n",
    "\n",
    "criterion = nn.BCELoss()\n",
    "optimizer = optim.Adam(model.parameters(), lr=0.001)\n",
    "\n",
    "epochs = 10\n",
    "\n",
    "for epoch in range(epochs):\n",
    "    for waveforms, labels in train_loader:\n",
    "        waveforms, labels = waveforms.cuda(), labels.cuda()\n",
    "        optimizer.zero_grad()\n",
    "        \n",
    "        outputs = model(waveforms)\n",
    "        loss = criterion(outputs, labels)\n",
    "        \n",
    "        loss.backward()\n",
    "        optimizer.step()\n",
    "        \n",
    "    print(f\"Epoch {epoch+1}/{epochs} Loss: {loss.item()}\")\n"
   ]
  },
  {
   "cell_type": "code",
   "execution_count": 14,
   "metadata": {},
   "outputs": [
    {
     "name": "stdout",
     "output_type": "stream",
     "text": [
      "F1 Score: 0.004644682633297434\n"
     ]
    }
   ],
   "source": [
    "from sklearn.metrics import f1_score\n",
    "\n",
    "model.eval()\n",
    "all_preds = []\n",
    "all_labels = []\n",
    "\n",
    "test_dataset = BirdDataset(\"data\", \"train.csv\")  # Use train dataset for evaluation (change later)\n",
    "test_loader = DataLoader(test_dataset, batch_size=32)\n",
    "\n",
    "model.eval()\n",
    "all_preds = []\n",
    "all_labels_list = []\n",
    "\n",
    "with torch.no_grad():\n",
    "    for waveforms, labels in test_loader:\n",
    "        waveforms = waveforms.cuda()\n",
    "        outputs = model(waveforms)\n",
    "        preds = (outputs > 0.5).float()\n",
    "        all_preds.extend(preds.cpu().numpy())\n",
    "        all_labels_list.extend(labels.cpu().numpy())\n",
    "\n",
    "f1 = f1_score(all_labels_list, all_preds, average='weighted')\n",
    "print(f\"F1 Score: {f1}\")"
   ]
  }
 ],
 "metadata": {
  "kernelspec": {
   "display_name": "pytorch-gpu-python-3-10",
   "language": "python",
   "name": "python3"
  },
  "language_info": {
   "codemirror_mode": {
    "name": "ipython",
    "version": 3
   },
   "file_extension": ".py",
   "mimetype": "text/x-python",
   "name": "python",
   "nbconvert_exporter": "python",
   "pygments_lexer": "ipython3",
   "version": "3.10.13"
  },
  "orig_nbformat": 4
 },
 "nbformat": 4,
 "nbformat_minor": 2
}
