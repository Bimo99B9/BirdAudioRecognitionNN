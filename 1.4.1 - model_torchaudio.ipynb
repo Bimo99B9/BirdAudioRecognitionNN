{
 "cells": [
  {
   "cell_type": "code",
   "execution_count": 1,
   "metadata": {},
   "outputs": [],
   "source": [
    "import os\n",
    "import torch\n",
    "import torchaudio\n",
    "import torchaudio.transforms as T\n",
    "import pandas as pd\n",
    "from torch.utils.data import Dataset, DataLoader\n",
    "from sklearn.model_selection import train_test_split\n",
    "\n",
    "class BirdSongDataset(Dataset):\n",
    "    def __init__(self, df, audio_dir, class_info, transform=None):\n",
    "        self.df = df\n",
    "        self.audio_dir = audio_dir\n",
    "        self.class_info = class_info\n",
    "        self.transform = transform\n",
    "\n",
    "    def __len__(self):\n",
    "        return len(self.df)\n",
    "    \n",
    "    def __getitem__(self, idx):\n",
    "        filename = self.df.iloc[idx, 0]\n",
    "        audio_path = os.path.join(self.audio_dir, filename)\n",
    "        waveform, sample_rate = torchaudio.load(audio_path)\n",
    "        \n",
    "        # Getting the labels\n",
    "        labels = self.df[self.df['filename'] == filename]\n",
    "        target = torch.zeros(len(self.class_info))\n",
    "        for _, label in labels.iterrows():\n",
    "            class_name = label['class']\n",
    "            target[self.class_info.index(class_name)] = 1.0\n",
    "\n",
    "        if self.transform:\n",
    "            waveform = self.transform(waveform)\n",
    "        \n",
    "        return waveform, target\n",
    "\n",
    "# Load csv files\n",
    "train_csv = pd.read_csv('data/train.csv')\n",
    "class_info_csv = pd.read_csv('data/class_info.csv')\n",
    "class_names = class_info_csv['class name'].tolist()\n",
    "\n",
    "# Split data into train and validation sets\n",
    "train_df, valid_df = train_test_split(train_csv, test_size=0.1, random_state=42)\n",
    "\n",
    "# Define transformations (Mel Spectrogram Transformation)\n",
    "transform = T.MelSpectrogram(sample_rate=44100, n_fft=1024, hop_length=512, n_mels=64)\n",
    "\n",
    "# Define Dataset objects\n",
    "train_dataset = BirdSongDataset(train_df, 'data/train/', class_names, transform=transform)\n",
    "valid_dataset = BirdSongDataset(valid_df, 'data/train/', class_names, transform=transform)\n",
    "\n",
    "# Define DataLoader objects\n",
    "train_loader = DataLoader(train_dataset, batch_size=32, shuffle=True)\n",
    "valid_loader = DataLoader(valid_dataset, batch_size=32, shuffle=False)\n"
   ]
  },
  {
   "cell_type": "code",
   "execution_count": 2,
   "metadata": {},
   "outputs": [],
   "source": [
    "from torch.nn.utils.rnn import pad_sequence\n",
    "\n",
    "# Find the global max length of waveforms in the dataset\n",
    "global_max_len = max([wf.shape[2] for wf, _ in train_dataset] + [wf.shape[2] for wf, _ in valid_dataset])\n",
    "\n",
    "def collate_fn(batch):\n",
    "    # A batch is a list of (waveform, target) pairs\n",
    "    waveforms, targets = zip(*batch)\n",
    "    \n",
    "    # Manually pad the waveforms to the global max length\n",
    "    padded_waveforms = []\n",
    "    for wf in waveforms:\n",
    "        pad_len = global_max_len - wf.shape[2]\n",
    "        padded_wf = torch.cat([wf, torch.zeros((1, wf.shape[1], pad_len))], axis=2)\n",
    "        padded_waveforms.append(padded_wf)\n",
    "        \n",
    "    waveforms = torch.stack(padded_waveforms)\n",
    "    targets = torch.stack(targets)\n",
    "    \n",
    "    return waveforms, targets\n",
    "\n",
    "# Update DataLoader objects with the new collate_fn\n",
    "train_loader = DataLoader(train_dataset, batch_size=32, shuffle=True, collate_fn=collate_fn)\n",
    "valid_loader = DataLoader(valid_dataset, batch_size=32, shuffle=False, collate_fn=collate_fn)"
   ]
  },
  {
   "cell_type": "code",
   "execution_count": 3,
   "metadata": {},
   "outputs": [],
   "source": [
    "import torch\n",
    "import torch.nn as nn\n",
    "import torch.optim as optim\n",
    "\n",
    "class SimpleCNN(nn.Module):\n",
    "    def __init__(self, num_classes):\n",
    "        super(SimpleCNN, self).__init__()\n",
    "        self.conv1 = nn.Conv2d(1, 16, kernel_size=3, stride=1, padding=1)\n",
    "        self.relu = nn.ReLU()\n",
    "        self.pool = nn.MaxPool2d(kernel_size=2, stride=2, padding=0)\n",
    "        self.conv2 = nn.Conv2d(16, 32, kernel_size=3, stride=1, padding=1)\n",
    "        self.fc1 = nn.Linear(32 * 16 * 108, 128)\n",
    "        self.fc2 = nn.Linear(128, num_classes)\n",
    "        self.sigmoid = nn.Sigmoid()\n",
    "        \n",
    "    def forward(self, x):\n",
    "        x = self.pool(self.relu(self.conv1(x)))\n",
    "        x = self.pool(self.relu(self.conv2(x)))\n",
    "        x = x.view(x.size(0), 32 * 16 * 108)\n",
    "        x = self.relu(self.fc1(x))\n",
    "        x = self.fc2(x)\n",
    "        x = self.sigmoid(x)\n",
    "        return x"
   ]
  },
  {
   "cell_type": "code",
   "execution_count": 4,
   "metadata": {},
   "outputs": [],
   "source": [
    "# Set up the device\n",
    "device = torch.device('cuda' if torch.cuda.is_available() else 'cpu')\n",
    "\n",
    "# Initialize the model\n",
    "model = SimpleCNN(num_classes=len(class_names)).to(device)\n"
   ]
  },
  {
   "cell_type": "code",
   "execution_count": 5,
   "metadata": {},
   "outputs": [
    {
     "name": "stdout",
     "output_type": "stream",
     "text": [
      "55296\n"
     ]
    }
   ],
   "source": [
    "import numpy as np\n",
    "\n",
    "\n",
    "def find_size(model):\n",
    "    dummy_x = torch.randn(1, 1, 64, 432).to(device)  # Assuming you have 1080 time frames\n",
    "    dummy_out = model.pool(model.conv2(model.pool(model.conv1(dummy_x))))\n",
    "    return int(np.prod(dummy_out.size()))\n",
    "\n",
    "# Before training\n",
    "feature_size = find_size(model)\n",
    "print(feature_size)"
   ]
  },
  {
   "cell_type": "code",
   "execution_count": 6,
   "metadata": {},
   "outputs": [
    {
     "name": "stdout",
     "output_type": "stream",
     "text": [
      "Epoch 1, Loss: 0.14110128507018088\n",
      "Epoch 2, Loss: 0.09452031412376807\n",
      "Epoch 3, Loss: 0.08362709475824466\n",
      "Epoch 4, Loss: 0.07759899737743231\n",
      "Epoch 5, Loss: 0.08085088552907109\n",
      "Epoch 6, Loss: 0.08101275307484544\n",
      "Epoch 7, Loss: 0.08204633131479988\n",
      "Epoch 8, Loss: 0.08742077085547723\n",
      "Epoch 9, Loss: 0.07985209534526802\n",
      "Epoch 10, Loss: 0.08020822957262401\n",
      "Epoch 11, Loss: 0.06367546010741394\n",
      "Epoch 12, Loss: 0.0600907236086921\n",
      "Epoch 13, Loss: 0.07281116678954837\n",
      "Epoch 14, Loss: 0.06429234598046885\n",
      "Epoch 15, Loss: 0.08175168961035804\n",
      "Epoch 16, Loss: 0.07924278858117759\n",
      "Epoch 17, Loss: 0.08586080096518764\n",
      "Epoch 18, Loss: 0.07916261679718277\n",
      "Epoch 19, Loss: 0.0981386755933412\n",
      "Epoch 20, Loss: 0.09205889044365344\n",
      "Epoch 21, Loss: 0.1145830626908439\n",
      "Epoch 22, Loss: 0.10401691607235429\n",
      "Epoch 23, Loss: 0.08338128556004869\n",
      "Epoch 24, Loss: 0.08272552966193941\n",
      "Epoch 25, Loss: 0.08610309978606752\n",
      "Epoch 26, Loss: 0.08176129769686108\n",
      "Epoch 27, Loss: 0.06985028434920913\n",
      "Epoch 28, Loss: 0.07558340201906573\n",
      "Epoch 29, Loss: 0.1030923454789991\n",
      "Epoch 30, Loss: 0.1036240863533189\n",
      "Finished Training\n"
     ]
    }
   ],
   "source": [
    "\n",
    "\n",
    "# Loss and Optimizer\n",
    "criterion = nn.BCELoss()\n",
    "optimizer = optim.Adam(model.parameters(), lr=0.001)\n",
    "\n",
    "# Training Loop\n",
    "num_epochs = 30\n",
    "for epoch in range(num_epochs):\n",
    "    model.train()\n",
    "    running_loss = 0.0\n",
    "    for i, (inputs, labels) in enumerate(train_loader):\n",
    "        # print(inputs.shape)\n",
    "        inputs, labels = inputs.to(device), labels.to(device)\n",
    "        \n",
    "        # Zero the parameter gradients\n",
    "        optimizer.zero_grad()\n",
    "        \n",
    "        # Forward + backward + optimize\n",
    "        outputs = model(inputs)\n",
    "        loss = criterion(outputs, labels)\n",
    "        loss.backward()\n",
    "        optimizer.step()\n",
    "        \n",
    "        running_loss += loss.item()\n",
    "        \n",
    "    print(f\"Epoch {epoch+1}, Loss: {running_loss / len(train_loader)}\")\n",
    "\n",
    "print('Finished Training')\n"
   ]
  },
  {
   "cell_type": "code",
   "execution_count": 7,
   "metadata": {},
   "outputs": [
    {
     "name": "stdout",
     "output_type": "stream",
     "text": [
      "F1 Score (Macro): 0.5344448031212603\n"
     ]
    },
    {
     "name": "stderr",
     "output_type": "stream",
     "text": [
      "c:\\Users\\danil\\.conda\\envs\\pytorch-gpu-python-3-10\\lib\\site-packages\\sklearn\\metrics\\_classification.py:1757: UndefinedMetricWarning: F-score is ill-defined and being set to 0.0 in labels with no true nor predicted samples. Use `zero_division` parameter to control this behavior.\n",
      "  _warn_prf(average, \"true nor predicted\", \"F-score is\", len(true_sum))\n"
     ]
    }
   ],
   "source": [
    "from sklearn.metrics import f1_score\n",
    "\n",
    "model.eval()\n",
    "all_preds = []\n",
    "all_labels = []\n",
    "\n",
    "with torch.no_grad():\n",
    "    for inputs, labels in valid_loader:\n",
    "        inputs, labels = inputs.to(device), labels.to(device)\n",
    "        outputs = model(inputs)\n",
    "        preds = outputs.round()  # Convert to binary: 0 or 1\n",
    "        \n",
    "        all_preds.extend(preds.cpu().numpy())\n",
    "        all_labels.extend(labels.cpu().numpy())\n",
    "\n",
    "f1_macro = f1_score(all_labels, all_preds, average='macro')\n",
    "print(f\"F1 Score (Macro): {f1_macro}\")\n"
   ]
  }
 ],
 "metadata": {
  "kernelspec": {
   "display_name": "pytorch-gpu-python-3-10",
   "language": "python",
   "name": "python3"
  },
  "language_info": {
   "codemirror_mode": {
    "name": "ipython",
    "version": 3
   },
   "file_extension": ".py",
   "mimetype": "text/x-python",
   "name": "python",
   "nbconvert_exporter": "python",
   "pygments_lexer": "ipython3",
   "version": "3.10.13"
  },
  "orig_nbformat": 4
 },
 "nbformat": 4,
 "nbformat_minor": 2
}
